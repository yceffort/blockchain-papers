{
  "nbformat": 4,
  "nbformat_minor": 0,
  "metadata": {
    "colab": {
      "name": "classification",
      "version": "0.3.2",
      "provenance": [],
      "include_colab_link": true
    },
    "kernelspec": {
      "name": "python3",
      "display_name": "Python 3"
    }
  },
  "cells": [
    {
      "cell_type": "markdown",
      "metadata": {
        "id": "view-in-github",
        "colab_type": "text"
      },
      "source": [
        "<a href=\"https://colab.research.google.com/github/yceffort/blockchain-papers/blob/master/classification.ipynb\" target=\"_parent\"><img src=\"https://colab.research.google.com/assets/colab-badge.svg\" alt=\"Open In Colab\"/></a>"
      ]
    },
    {
      "metadata": {
        "id": "uDbt6Alf7zZt",
        "colab_type": "code",
        "colab": {
          "base_uri": "https://localhost:8080/",
          "height": 53
        },
        "outputId": "205b7d9f-3c19-499a-a08f-7262f5437d12"
      },
      "cell_type": "code",
      "source": [
        "from six.moves import urllib\n",
        "from sklearn.datasets import fetch_mldata\n",
        "try:\n",
        "    mnist = fetch_mldata('MNIST original')\n",
        "except urllib.error.HTTPError as ex:\n",
        "    print(\"Could not download MNIST data from mldata.org, trying alternative...\")\n",
        "\n",
        "    # Alternative method to load MNIST, if mldata.org is down\n",
        "    from scipy.io import loadmat\n",
        "    mnist_alternative_url = \"https://github.com/amplab/datascience-sp14/raw/master/lab7/mldata/mnist-original.mat\"\n",
        "    mnist_path = \"./mnist-original.mat\"\n",
        "    response = urllib.request.urlopen(mnist_alternative_url)\n",
        "    with open(mnist_path, \"wb\") as f:\n",
        "        content = response.read()\n",
        "        f.write(content)\n",
        "    mnist_raw = loadmat(mnist_path)\n",
        "    mnist = {\n",
        "        \"data\": mnist_raw[\"data\"].T,\n",
        "        \"target\": mnist_raw[\"label\"][0],\n",
        "        \"COL_NAMES\": [\"label\", \"data\"],\n",
        "        \"DESCR\": \"mldata.org dataset: mnist-original\",\n",
        "    }\n",
        "    print(\"Success!\")"
      ],
      "execution_count": 1,
      "outputs": [
        {
          "output_type": "stream",
          "text": [
            "Could not download MNIST data from mldata.org, trying alternative...\n",
            "Success!\n"
          ],
          "name": "stdout"
        }
      ]
    },
    {
      "metadata": {
        "id": "q8tsSXaK76SB",
        "colab_type": "code",
        "colab": {}
      },
      "cell_type": "code",
      "source": [
        ""
      ],
      "execution_count": 0,
      "outputs": []
    }
  ]
}